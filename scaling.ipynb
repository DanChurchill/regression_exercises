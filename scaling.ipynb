{
 "cells": [
  {
   "cell_type": "code",
   "execution_count": 1,
   "id": "013998b4",
   "metadata": {},
   "outputs": [],
   "source": [
    "import numpy as np\n",
    "import pandas as pd\n",
    "import wrangle\n",
    "import seaborn as sns\n",
    "import matplotlib.pyplot as plt\n",
    "\n",
    "from sklearn.neighbors import KNeighborsClassifier\n",
    "from sklearn.preprocessing import MinMaxScaler, StandardScaler, RobustScaler, QuantileTransformer\n"
   ]
  },
  {
   "cell_type": "code",
   "execution_count": 2,
   "id": "bf50414c",
   "metadata": {},
   "outputs": [],
   "source": [
    "df = wrangle.get_zillow()"
   ]
  },
  {
   "cell_type": "code",
   "execution_count": 3,
   "id": "d738d752",
   "metadata": {},
   "outputs": [
    {
     "data": {
      "text/html": [
       "<div>\n",
       "<style scoped>\n",
       "    .dataframe tbody tr th:only-of-type {\n",
       "        vertical-align: middle;\n",
       "    }\n",
       "\n",
       "    .dataframe tbody tr th {\n",
       "        vertical-align: top;\n",
       "    }\n",
       "\n",
       "    .dataframe thead th {\n",
       "        text-align: right;\n",
       "    }\n",
       "</style>\n",
       "<table border=\"1\" class=\"dataframe\">\n",
       "  <thead>\n",
       "    <tr style=\"text-align: right;\">\n",
       "      <th></th>\n",
       "      <th>parcelid</th>\n",
       "      <th>bedroomcnt</th>\n",
       "      <th>bathroomcnt</th>\n",
       "      <th>calculatedfinishedsquarefeet</th>\n",
       "      <th>taxvaluedollarcnt</th>\n",
       "      <th>yearbuilt</th>\n",
       "      <th>taxamount</th>\n",
       "      <th>fips</th>\n",
       "    </tr>\n",
       "  </thead>\n",
       "  <tbody>\n",
       "    <tr>\n",
       "      <th>0</th>\n",
       "      <td>11544747</td>\n",
       "      <td>3.0</td>\n",
       "      <td>4.0</td>\n",
       "      <td>1620.0</td>\n",
       "      <td>847770.0</td>\n",
       "      <td>2011.0</td>\n",
       "      <td>10244.94</td>\n",
       "      <td>6037.0</td>\n",
       "    </tr>\n",
       "    <tr>\n",
       "      <th>1</th>\n",
       "      <td>11585547</td>\n",
       "      <td>3.0</td>\n",
       "      <td>2.0</td>\n",
       "      <td>2077.0</td>\n",
       "      <td>646760.0</td>\n",
       "      <td>1926.0</td>\n",
       "      <td>7924.68</td>\n",
       "      <td>6037.0</td>\n",
       "    </tr>\n",
       "    <tr>\n",
       "      <th>2</th>\n",
       "      <td>12716947</td>\n",
       "      <td>3.0</td>\n",
       "      <td>1.0</td>\n",
       "      <td>1244.0</td>\n",
       "      <td>169471.0</td>\n",
       "      <td>1950.0</td>\n",
       "      <td>2532.88</td>\n",
       "      <td>6037.0</td>\n",
       "    </tr>\n",
       "    <tr>\n",
       "      <th>3</th>\n",
       "      <td>12757147</td>\n",
       "      <td>3.0</td>\n",
       "      <td>2.0</td>\n",
       "      <td>1300.0</td>\n",
       "      <td>233266.0</td>\n",
       "      <td>1950.0</td>\n",
       "      <td>3110.99</td>\n",
       "      <td>6037.0</td>\n",
       "    </tr>\n",
       "    <tr>\n",
       "      <th>4</th>\n",
       "      <td>12757947</td>\n",
       "      <td>3.0</td>\n",
       "      <td>2.0</td>\n",
       "      <td>1222.0</td>\n",
       "      <td>290492.0</td>\n",
       "      <td>1951.0</td>\n",
       "      <td>3870.25</td>\n",
       "      <td>6037.0</td>\n",
       "    </tr>\n",
       "  </tbody>\n",
       "</table>\n",
       "</div>"
      ],
      "text/plain": [
       "   parcelid  bedroomcnt  bathroomcnt  calculatedfinishedsquarefeet  \\\n",
       "0  11544747         3.0          4.0                        1620.0   \n",
       "1  11585547         3.0          2.0                        2077.0   \n",
       "2  12716947         3.0          1.0                        1244.0   \n",
       "3  12757147         3.0          2.0                        1300.0   \n",
       "4  12757947         3.0          2.0                        1222.0   \n",
       "\n",
       "   taxvaluedollarcnt  yearbuilt  taxamount    fips  \n",
       "0           847770.0     2011.0   10244.94  6037.0  \n",
       "1           646760.0     1926.0    7924.68  6037.0  \n",
       "2           169471.0     1950.0    2532.88  6037.0  \n",
       "3           233266.0     1950.0    3110.99  6037.0  \n",
       "4           290492.0     1951.0    3870.25  6037.0  "
      ]
     },
     "execution_count": 3,
     "metadata": {},
     "output_type": "execute_result"
    }
   ],
   "source": [
    "df.head()"
   ]
  },
  {
   "cell_type": "code",
   "execution_count": 4,
   "id": "c45fbbe6",
   "metadata": {},
   "outputs": [],
   "source": [
    "# split data into train/validate/test\n",
    "train, validate, test = wrangle.my_split(df)"
   ]
  },
  {
   "cell_type": "code",
   "execution_count": 12,
   "id": "c6b08c8c",
   "metadata": {},
   "outputs": [],
   "source": [
    "# split into X and y\n",
    "cols = ['parcelid','bedroomcnt','bathroomcnt','calculatedfinishedsquarefeet',\n",
    "        'yearbuilt','taxamount','fips']\n",
    "X_train, X_validate, X_test = train[cols], validate[cols], test[cols]\n",
    "y_train, y_validate, y_test = train.taxvaluedollarcnt, validate.taxvaluedollarcnt, test.taxvaluedollarcnt"
   ]
  },
  {
   "cell_type": "code",
   "execution_count": 20,
   "id": "f99590f1",
   "metadata": {},
   "outputs": [
    {
     "data": {
      "image/png": "[encoded data removed]",
      "text/plain": [
       "<Figure size 936x432 with 2 Axes>"
      ]
     },
     "metadata": {
      "needs_background": "light"
     },
     "output_type": "display_data"
    }
   ],
   "source": [
    "# create Min-Max scaler and scale two columns\n",
    "scaler = MinMaxScaler()\n",
    "train[['scaled_sqft', 'scaled_taxamount']] = scaler.fit_transform(train[['calculatedfinishedsquarefeet',\n",
    "                                                                         'taxamount']])\n",
    "\n",
    "# plot the original and scaled tax amount\n",
    "plt.figure(figsize=(13, 6))\n",
    "plt.subplot(121)\n",
    "plt.hist(train.taxamount, bins=25, ec='black')\n",
    "plt.title('Original')\n",
    "plt.subplot(122)\n",
    "plt.hist(train.scaled_taxamount, bins=25, ec='black')\n",
    "plt.title('Scaled')\n",
    "plt.show()"
   ]
  },
  {
   "cell_type": "code",
   "execution_count": 19,
   "id": "1b00e8a2",
   "metadata": {},
   "outputs": [
    {
     "data": {
      "image/png": "[encoded data removed]",
      "text/plain": [
       "<Figure size 936x432 with 2 Axes>"
      ]
     },
     "metadata": {
      "needs_background": "light"
     },
     "output_type": "display_data"
    }
   ],
   "source": [
    "# plot the original and scaled sq ft\n",
    "plt.figure(figsize=(13, 6))\n",
    "plt.subplot(121)\n",
    "plt.hist(train.calculatedfinishedsquarefeet, bins=25, ec='black')\n",
    "plt.title('Original')\n",
    "plt.subplot(122)\n",
    "plt.hist(train.scaled_sqft, bins=25, ec='black')\n",
    "plt.title('Scaled')\n",
    "plt.show()"
   ]
  },
  {
   "cell_type": "code",
   "execution_count": 49,
   "id": "64b2fa47",
   "metadata": {},
   "outputs": [
    {
     "data": {
      "image/png": "[encoded data removed]",
      "text/plain": [
       "<Figure size 936x432 with 2 Axes>"
      ]
     },
     "metadata": {
      "needs_background": "light"
     },
     "output_type": "display_data"
    }
   ],
   "source": [
    "# create Standard scaler and scale two columns\n",
    "scaler = StandardScaler()\n",
    "train[['scaled_sqft', 'scaled_taxamount']] = scaler.fit_transform(train[['calculatedfinishedsquarefeet',\n",
    "                                                                         'taxamount']])\n",
    "\n",
    "# plot the original and scaled tax amount\n",
    "plt.figure(figsize=(13, 6))\n",
    "plt.subplot(121)\n",
    "plt.hist(train.taxamount, bins=25, ec='black')\n",
    "plt.title('Original')\n",
    "plt.subplot(122)\n",
    "plt.hist(train.scaled_taxamount, bins=25, ec='black')\n",
    "plt.title('Scaled')\n",
    "plt.show()"
   ]
  },
  {
   "cell_type": "code",
   "execution_count": 23,
   "id": "58048a56",
   "metadata": {},
   "outputs": [
    {
     "data": {
      "image/png": "[encoded data removed]",
      "text/plain": [
       "<Figure size 936x432 with 2 Axes>"
      ]
     },
     "metadata": {
      "needs_background": "light"
     },
     "output_type": "display_data"
    }
   ],
   "source": [
    "# plot the original and scaled sq ft\n",
    "plt.figure(figsize=(13, 6))\n",
    "plt.subplot(121)\n",
    "plt.hist(train.calculatedfinishedsquarefeet, bins=25, ec='black')\n",
    "plt.title('Original')\n",
    "plt.subplot(122)\n",
    "plt.hist(train.scaled_sqft, bins=25, ec='black')\n",
    "plt.title('Scaled')\n",
    "plt.show()"
   ]
  },
  {
   "cell_type": "code",
   "execution_count": 24,
   "id": "deb4d8ad",
   "metadata": {},
   "outputs": [
    {
     "data": {
      "image/png": "[encoded data removed]",
      "text/plain": [
       "<Figure size 936x432 with 2 Axes>"
      ]
     },
     "metadata": {
      "needs_background": "light"
     },
     "output_type": "display_data"
    }
   ],
   "source": [
    "# create Robust scaler and scale two columns\n",
    "scaler = RobustScaler()\n",
    "train[['scaled_sqft', 'scaled_taxamount']] = scaler.fit_transform(train[['calculatedfinishedsquarefeet',\n",
    "                                                                         'taxamount']])\n",
    "\n",
    "# plot the original and scaled tax amount\n",
    "plt.figure(figsize=(13, 6))\n",
    "plt.subplot(121)\n",
    "plt.hist(train.taxamount, bins=25, ec='black')\n",
    "plt.title('Original')\n",
    "plt.subplot(122)\n",
    "plt.hist(train.scaled_taxamount, bins=25, ec='black')\n",
    "plt.title('Scaled')\n",
    "plt.show()"
   ]
  },
  {
   "cell_type": "code",
   "execution_count": 25,
   "id": "a4e15f90",
   "metadata": {},
   "outputs": [
    {
     "data": {
      "image/png": "[encoded data removed]",
      "text/plain": [
       "<Figure size 936x432 with 2 Axes>"
      ]
     },
     "metadata": {
      "needs_background": "light"
     },
     "output_type": "display_data"
    }
   ],
   "source": [
    "# plot the original and scaled sq ft\n",
    "plt.figure(figsize=(13, 6))\n",
    "plt.subplot(121)\n",
    "plt.hist(train.calculatedfinishedsquarefeet, bins=25, ec='black')\n",
    "plt.title('Original')\n",
    "plt.subplot(122)\n",
    "plt.hist(train.scaled_sqft, bins=25, ec='black')\n",
    "plt.title('Scaled')\n",
    "plt.show()"
   ]
  },
  {
   "cell_type": "markdown",
   "id": "32bf1f5a",
   "metadata": {},
   "source": [
    "# Apply the .inverse_transform method to your scaled data. Is the resulting dataset the exact same as the original data?"
   ]
  },
  {
   "cell_type": "code",
   "execution_count": 51,
   "id": "c3a80b51",
   "metadata": {},
   "outputs": [],
   "source": [
    "train[['orig_sqft', 'orig_taxamount']] = scaler.inverse_transform(train[['scaled_sqft', 'scaled_taxamount']])"
   ]
  },
  {
   "cell_type": "code",
   "execution_count": 52,
   "id": "0151dcc3",
   "metadata": {},
   "outputs": [
    {
     "data": {
      "text/html": [
       "<div>\n",
       "<style scoped>\n",
       "    .dataframe tbody tr th:only-of-type {\n",
       "        vertical-align: middle;\n",
       "    }\n",
       "\n",
       "    .dataframe tbody tr th {\n",
       "        vertical-align: top;\n",
       "    }\n",
       "\n",
       "    .dataframe thead th {\n",
       "        text-align: right;\n",
       "    }\n",
       "</style>\n",
       "<table border=\"1\" class=\"dataframe\">\n",
       "  <thead>\n",
       "    <tr style=\"text-align: right;\">\n",
       "      <th></th>\n",
       "      <th>parcelid</th>\n",
       "      <th>bedroomcnt</th>\n",
       "      <th>bathroomcnt</th>\n",
       "      <th>calculatedfinishedsquarefeet</th>\n",
       "      <th>taxvaluedollarcnt</th>\n",
       "      <th>yearbuilt</th>\n",
       "      <th>taxamount</th>\n",
       "      <th>fips</th>\n",
       "      <th>scaled_sqft</th>\n",
       "      <th>scaled_taxamount</th>\n",
       "      <th>orig_sqft</th>\n",
       "      <th>orig_taxamount</th>\n",
       "    </tr>\n",
       "  </thead>\n",
       "  <tbody>\n",
       "    <tr>\n",
       "      <th>1728554</th>\n",
       "      <td>11869650</td>\n",
       "      <td>3.0</td>\n",
       "      <td>2.0</td>\n",
       "      <td>1656.0</td>\n",
       "      <td>530853.0</td>\n",
       "      <td>1959.0</td>\n",
       "      <td>7850.68</td>\n",
       "      <td>6037.0</td>\n",
       "      <td>0.003487</td>\n",
       "      <td>1.684749</td>\n",
       "      <td>1656.0</td>\n",
       "      <td>7850.68</td>\n",
       "    </tr>\n",
       "    <tr>\n",
       "      <th>81629</th>\n",
       "      <td>14072017</td>\n",
       "      <td>3.0</td>\n",
       "      <td>2.5</td>\n",
       "      <td>2328.0</td>\n",
       "      <td>98133.0</td>\n",
       "      <td>1966.0</td>\n",
       "      <td>1386.00</td>\n",
       "      <td>6059.0</td>\n",
       "      <td>1.193322</td>\n",
       "      <td>-1.195713</td>\n",
       "      <td>2328.0</td>\n",
       "      <td>1386.00</td>\n",
       "    </tr>\n",
       "    <tr>\n",
       "      <th>1399090</th>\n",
       "      <td>13949953</td>\n",
       "      <td>4.0</td>\n",
       "      <td>3.5</td>\n",
       "      <td>2807.0</td>\n",
       "      <td>347645.0</td>\n",
       "      <td>1959.0</td>\n",
       "      <td>4303.98</td>\n",
       "      <td>6059.0</td>\n",
       "      <td>2.041433</td>\n",
       "      <td>0.104449</td>\n",
       "      <td>2807.0</td>\n",
       "      <td>4303.98</td>\n",
       "    </tr>\n",
       "    <tr>\n",
       "      <th>1726159</th>\n",
       "      <td>10778653</td>\n",
       "      <td>3.0</td>\n",
       "      <td>1.0</td>\n",
       "      <td>1022.0</td>\n",
       "      <td>186407.0</td>\n",
       "      <td>1949.0</td>\n",
       "      <td>2270.58</td>\n",
       "      <td>6037.0</td>\n",
       "      <td>-1.119065</td>\n",
       "      <td>-0.801571</td>\n",
       "      <td>1022.0</td>\n",
       "      <td>2270.58</td>\n",
       "    </tr>\n",
       "    <tr>\n",
       "      <th>1449518</th>\n",
       "      <td>11265805</td>\n",
       "      <td>3.0</td>\n",
       "      <td>2.0</td>\n",
       "      <td>2459.0</td>\n",
       "      <td>279593.0</td>\n",
       "      <td>1953.0</td>\n",
       "      <td>3473.36</td>\n",
       "      <td>6037.0</td>\n",
       "      <td>1.425268</td>\n",
       "      <td>-0.265650</td>\n",
       "      <td>2459.0</td>\n",
       "      <td>3473.36</td>\n",
       "    </tr>\n",
       "    <tr>\n",
       "      <th>...</th>\n",
       "      <td>...</td>\n",
       "      <td>...</td>\n",
       "      <td>...</td>\n",
       "      <td>...</td>\n",
       "      <td>...</td>\n",
       "      <td>...</td>\n",
       "      <td>...</td>\n",
       "      <td>...</td>\n",
       "      <td>...</td>\n",
       "      <td>...</td>\n",
       "      <td>...</td>\n",
       "      <td>...</td>\n",
       "    </tr>\n",
       "    <tr>\n",
       "      <th>948</th>\n",
       "      <td>10827255</td>\n",
       "      <td>3.0</td>\n",
       "      <td>3.0</td>\n",
       "      <td>3047.0</td>\n",
       "      <td>400023.0</td>\n",
       "      <td>1925.0</td>\n",
       "      <td>4967.42</td>\n",
       "      <td>6037.0</td>\n",
       "      <td>2.466373</td>\n",
       "      <td>0.400057</td>\n",
       "      <td>3047.0</td>\n",
       "      <td>4967.42</td>\n",
       "    </tr>\n",
       "    <tr>\n",
       "      <th>1415305</th>\n",
       "      <td>12500004</td>\n",
       "      <td>3.0</td>\n",
       "      <td>2.0</td>\n",
       "      <td>1742.0</td>\n",
       "      <td>125836.0</td>\n",
       "      <td>1977.0</td>\n",
       "      <td>1662.71</td>\n",
       "      <td>6037.0</td>\n",
       "      <td>0.155758</td>\n",
       "      <td>-1.072419</td>\n",
       "      <td>1742.0</td>\n",
       "      <td>1662.71</td>\n",
       "    </tr>\n",
       "    <tr>\n",
       "      <th>1091879</th>\n",
       "      <td>12968478</td>\n",
       "      <td>3.0</td>\n",
       "      <td>2.0</td>\n",
       "      <td>1315.0</td>\n",
       "      <td>70159.0</td>\n",
       "      <td>1950.0</td>\n",
       "      <td>1255.78</td>\n",
       "      <td>6037.0</td>\n",
       "      <td>-0.600283</td>\n",
       "      <td>-1.253735</td>\n",
       "      <td>1315.0</td>\n",
       "      <td>1255.78</td>\n",
       "    </tr>\n",
       "    <tr>\n",
       "      <th>1661236</th>\n",
       "      <td>17228826</td>\n",
       "      <td>3.0</td>\n",
       "      <td>2.0</td>\n",
       "      <td>1436.0</td>\n",
       "      <td>335000.0</td>\n",
       "      <td>1974.0</td>\n",
       "      <td>4052.44</td>\n",
       "      <td>6111.0</td>\n",
       "      <td>-0.386042</td>\n",
       "      <td>-0.007630</td>\n",
       "      <td>1436.0</td>\n",
       "      <td>4052.44</td>\n",
       "    </tr>\n",
       "    <tr>\n",
       "      <th>1251600</th>\n",
       "      <td>14219935</td>\n",
       "      <td>4.0</td>\n",
       "      <td>2.5</td>\n",
       "      <td>1877.0</td>\n",
       "      <td>414245.0</td>\n",
       "      <td>1976.0</td>\n",
       "      <td>4554.54</td>\n",
       "      <td>6059.0</td>\n",
       "      <td>0.394787</td>\n",
       "      <td>0.216091</td>\n",
       "      <td>1877.0</td>\n",
       "      <td>4554.54</td>\n",
       "    </tr>\n",
       "  </tbody>\n",
       "</table>\n",
       "<p>1113171 rows × 12 columns</p>\n",
       "</div>"
      ],
      "text/plain": [
       "         parcelid  bedroomcnt  bathroomcnt  calculatedfinishedsquarefeet  \\\n",
       "1728554  11869650         3.0          2.0                        1656.0   \n",
       "81629    14072017         3.0          2.5                        2328.0   \n",
       "1399090  13949953         4.0          3.5                        2807.0   \n",
       "1726159  10778653         3.0          1.0                        1022.0   \n",
       "1449518  11265805         3.0          2.0                        2459.0   \n",
       "...           ...         ...          ...                           ...   \n",
       "948      10827255         3.0          3.0                        3047.0   \n",
       "1415305  12500004         3.0          2.0                        1742.0   \n",
       "1091879  12968478         3.0          2.0                        1315.0   \n",
       "1661236  17228826         3.0          2.0                        1436.0   \n",
       "1251600  14219935         4.0          2.5                        1877.0   \n",
       "\n",
       "         taxvaluedollarcnt  yearbuilt  taxamount    fips  scaled_sqft  \\\n",
       "1728554           530853.0     1959.0    7850.68  6037.0     0.003487   \n",
       "81629              98133.0     1966.0    1386.00  6059.0     1.193322   \n",
       "1399090           347645.0     1959.0    4303.98  6059.0     2.041433   \n",
       "1726159           186407.0     1949.0    2270.58  6037.0    -1.119065   \n",
       "1449518           279593.0     1953.0    3473.36  6037.0     1.425268   \n",
       "...                    ...        ...        ...     ...          ...   \n",
       "948               400023.0     1925.0    4967.42  6037.0     2.466373   \n",
       "1415305           125836.0     1977.0    1662.71  6037.0     0.155758   \n",
       "1091879            70159.0     1950.0    1255.78  6037.0    -0.600283   \n",
       "1661236           335000.0     1974.0    4052.44  6111.0    -0.386042   \n",
       "1251600           414245.0     1976.0    4554.54  6059.0     0.394787   \n",
       "\n",
       "         scaled_taxamount  orig_sqft  orig_taxamount  \n",
       "1728554          1.684749     1656.0         7850.68  \n",
       "81629           -1.195713     2328.0         1386.00  \n",
       "1399090          0.104449     2807.0         4303.98  \n",
       "1726159         -0.801571     1022.0         2270.58  \n",
       "1449518         -0.265650     2459.0         3473.36  \n",
       "...                   ...        ...             ...  \n",
       "948              0.400057     3047.0         4967.42  \n",
       "1415305         -1.072419     1742.0         1662.71  \n",
       "1091879         -1.253735     1315.0         1255.78  \n",
       "1661236         -0.007630     1436.0         4052.44  \n",
       "1251600          0.216091     1877.0         4554.54  \n",
       "\n",
       "[1113171 rows x 12 columns]"
      ]
     },
     "execution_count": 52,
     "metadata": {},
     "output_type": "execute_result"
    }
   ],
   "source": [
    "train"
   ]
  },
  {
   "cell_type": "code",
   "execution_count": 53,
   "id": "c9f72318",
   "metadata": {},
   "outputs": [],
   "source": [
    "train.drop(columns=['scaled_sqft', 'scaled_taxamount', 'orig_sqft', 'orig_taxamount'], inplace=True)"
   ]
  },
  {
   "cell_type": "markdown",
   "id": "805772b2",
   "metadata": {},
   "source": [
    "# Read the documentation for sklearn's QuantileTransformer. Use normal for the output_distribution and apply this scaler to your data. Visualize the result of your data scaling."
   ]
  },
  {
   "cell_type": "code",
   "execution_count": 55,
   "id": "68e4df2d",
   "metadata": {},
   "outputs": [
    {
     "data": {
      "image/png": "[encoded data removed]",
      "text/plain": [
       "<Figure size 936x432 with 2 Axes>"
      ]
     },
     "metadata": {
      "needs_background": "light"
     },
     "output_type": "display_data"
    }
   ],
   "source": [
    "# create quantiletransformer scaler and scale two columns\n",
    "scaler = QuantileTransformer(output_distribution = 'normal')\n",
    "train[['scaled_sqft', 'scaled_taxamount']] = scaler.fit_transform(train[['calculatedfinishedsquarefeet',\n",
    "                                                                         'taxamount']])\n",
    "\n",
    "# plot the original and scaled tax amount\n",
    "plt.figure(figsize=(13, 6))\n",
    "plt.subplot(121)\n",
    "plt.hist(train.taxamount, bins=25, ec='black')\n",
    "plt.title('Original')\n",
    "plt.subplot(122)\n",
    "plt.hist(train.scaled_taxamount, bins=25, ec='black')\n",
    "plt.title('Scaled')\n",
    "plt.show()"
   ]
  },
  {
   "cell_type": "markdown",
   "id": "f5353efa",
   "metadata": {},
   "source": [
    "# Use the QuantileTransformer, but omit the output_distribution argument. Visualize your results. What do you notice?"
   ]
  },
  {
   "cell_type": "code",
   "execution_count": 56,
   "id": "b3edc094",
   "metadata": {},
   "outputs": [
    {
     "data": {
      "image/png": "[encoded data removed]",
      "text/plain": [
       "<Figure size 936x432 with 2 Axes>"
      ]
     },
     "metadata": {
      "needs_background": "light"
     },
     "output_type": "display_data"
    }
   ],
   "source": [
    "# create quantiletransformer scaler and scale two columns\n",
    "scaler = QuantileTransformer()\n",
    "train[['scaled_sqft', 'scaled_taxamount']] = scaler.fit_transform(train[['calculatedfinishedsquarefeet',\n",
    "                                                                         'taxamount']])\n",
    "\n",
    "# plot the original and scaled tax amount\n",
    "plt.figure(figsize=(13, 6))\n",
    "plt.subplot(121)\n",
    "plt.hist(train.taxamount, bins=25, ec='black')\n",
    "plt.title('Original')\n",
    "plt.subplot(122)\n",
    "plt.hist(train.scaled_taxamount, bins=25, ec='black')\n",
    "plt.title('Scaled')\n",
    "plt.show()"
   ]
  },
  {
   "cell_type": "markdown",
   "id": "5ec5d352",
   "metadata": {},
   "source": [
    "# Based on the work you've done, choose a scaling method for your dataset. Write a function within your prepare.py that accepts as input the train, validate, and test data splits, and returns the scaled versions of each. Be sure to only learn the parameters for scaling from your training data!"
   ]
  },
  {
   "cell_type": "code",
   "execution_count": 5,
   "id": "44d3a479",
   "metadata": {},
   "outputs": [
    {
     "data": {
      "text/html": [
       "<div>\n",
       "<style scoped>\n",
       "    .dataframe tbody tr th:only-of-type {\n",
       "        vertical-align: middle;\n",
       "    }\n",
       "\n",
       "    .dataframe tbody tr th {\n",
       "        vertical-align: top;\n",
       "    }\n",
       "\n",
       "    .dataframe thead th {\n",
       "        text-align: right;\n",
       "    }\n",
       "</style>\n",
       "<table border=\"1\" class=\"dataframe\">\n",
       "  <thead>\n",
       "    <tr style=\"text-align: right;\">\n",
       "      <th></th>\n",
       "      <th>parcelid</th>\n",
       "      <th>bedroomcnt</th>\n",
       "      <th>bathroomcnt</th>\n",
       "      <th>calculatedfinishedsquarefeet</th>\n",
       "      <th>taxvaluedollarcnt</th>\n",
       "      <th>yearbuilt</th>\n",
       "      <th>taxamount</th>\n",
       "      <th>fips</th>\n",
       "    </tr>\n",
       "  </thead>\n",
       "  <tbody>\n",
       "    <tr>\n",
       "      <th>1728554</th>\n",
       "      <td>11869650</td>\n",
       "      <td>3.0</td>\n",
       "      <td>2.0</td>\n",
       "      <td>1656.0</td>\n",
       "      <td>530853.0</td>\n",
       "      <td>1959.0</td>\n",
       "      <td>7850.68</td>\n",
       "      <td>6037.0</td>\n",
       "    </tr>\n",
       "    <tr>\n",
       "      <th>81629</th>\n",
       "      <td>14072017</td>\n",
       "      <td>3.0</td>\n",
       "      <td>2.5</td>\n",
       "      <td>2328.0</td>\n",
       "      <td>98133.0</td>\n",
       "      <td>1966.0</td>\n",
       "      <td>1386.00</td>\n",
       "      <td>6059.0</td>\n",
       "    </tr>\n",
       "    <tr>\n",
       "      <th>1399090</th>\n",
       "      <td>13949953</td>\n",
       "      <td>4.0</td>\n",
       "      <td>3.5</td>\n",
       "      <td>2807.0</td>\n",
       "      <td>347645.0</td>\n",
       "      <td>1959.0</td>\n",
       "      <td>4303.98</td>\n",
       "      <td>6059.0</td>\n",
       "    </tr>\n",
       "    <tr>\n",
       "      <th>1726159</th>\n",
       "      <td>10778653</td>\n",
       "      <td>3.0</td>\n",
       "      <td>1.0</td>\n",
       "      <td>1022.0</td>\n",
       "      <td>186407.0</td>\n",
       "      <td>1949.0</td>\n",
       "      <td>2270.58</td>\n",
       "      <td>6037.0</td>\n",
       "    </tr>\n",
       "    <tr>\n",
       "      <th>1449518</th>\n",
       "      <td>11265805</td>\n",
       "      <td>3.0</td>\n",
       "      <td>2.0</td>\n",
       "      <td>2459.0</td>\n",
       "      <td>279593.0</td>\n",
       "      <td>1953.0</td>\n",
       "      <td>3473.36</td>\n",
       "      <td>6037.0</td>\n",
       "    </tr>\n",
       "  </tbody>\n",
       "</table>\n",
       "</div>"
      ],
      "text/plain": [
       "         parcelid  bedroomcnt  bathroomcnt  calculatedfinishedsquarefeet  \\\n",
       "1728554  11869650         3.0          2.0                        1656.0   \n",
       "81629    14072017         3.0          2.5                        2328.0   \n",
       "1399090  13949953         4.0          3.5                        2807.0   \n",
       "1726159  10778653         3.0          1.0                        1022.0   \n",
       "1449518  11265805         3.0          2.0                        2459.0   \n",
       "\n",
       "         taxvaluedollarcnt  yearbuilt  taxamount    fips  \n",
       "1728554           530853.0     1959.0    7850.68  6037.0  \n",
       "81629              98133.0     1966.0    1386.00  6059.0  \n",
       "1399090           347645.0     1959.0    4303.98  6059.0  \n",
       "1726159           186407.0     1949.0    2270.58  6037.0  \n",
       "1449518           279593.0     1953.0    3473.36  6037.0  "
      ]
     },
     "execution_count": 5,
     "metadata": {},
     "output_type": "execute_result"
    }
   ],
   "source": [
    "train.head()"
   ]
  },
  {
   "cell_type": "code",
   "execution_count": null,
   "id": "4e062f4e",
   "metadata": {},
   "outputs": [],
   "source": [
    "def min_max_scaler(train, validate, test):\n",
    "       '''\n",
    "       function accepts train, validate, and test dataframes and \n",
    "       performs min_max scaling on the sq_ft and tax_amount columns\n",
    "       returns the train, validate, and test dataframes with the additional \n",
    "       scaled columns\n",
    "       '''\n",
    "        \n",
    "        scaler = MinMaxScaler()\n",
    "\n",
    "        train[['scaled_sqft', 'scaled_taxamount']] = scaler.fit_transform(train[['calculatedfinishedsquarefeet',\n",
    "                                                                         'taxamount']])\n",
    "\n",
    "        validate[['scaled_sqft', 'scaled_taxamount']] = scaler.fit_transform(train[['calculatedfinishedsquarefeet',\n",
    "                                                                         'taxamount']])\n",
    "\n",
    "        test[['scaled_sqft', 'scaled_taxamount']] = scaler.fit_transform(train[['calculatedfinishedsquarefeet',\n",
    "                                                                         'taxamount']])\n",
    "\n",
    "        return train, validate, test"
   ]
  },
  {
   "cell_type": "code",
   "execution_count": 6,
   "id": "e417ae9f",
   "metadata": {},
   "outputs": [],
   "source": [
    "# test function\n",
    "train, validate, test = wrangle.min_max_scaler(train, validate, test)"
   ]
  },
  {
   "cell_type": "code",
   "execution_count": 11,
   "id": "7a34ccd1",
   "metadata": {},
   "outputs": [
    {
     "data": {
      "text/html": [
       "<div>\n",
       "<style scoped>\n",
       "    .dataframe tbody tr th:only-of-type {\n",
       "        vertical-align: middle;\n",
       "    }\n",
       "\n",
       "    .dataframe tbody tr th {\n",
       "        vertical-align: top;\n",
       "    }\n",
       "\n",
       "    .dataframe thead th {\n",
       "        text-align: right;\n",
       "    }\n",
       "</style>\n",
       "<table border=\"1\" class=\"dataframe\">\n",
       "  <thead>\n",
       "    <tr style=\"text-align: right;\">\n",
       "      <th></th>\n",
       "      <th>parcelid</th>\n",
       "      <th>bedroomcnt</th>\n",
       "      <th>bathroomcnt</th>\n",
       "      <th>calculatedfinishedsquarefeet</th>\n",
       "      <th>taxvaluedollarcnt</th>\n",
       "      <th>yearbuilt</th>\n",
       "      <th>taxamount</th>\n",
       "      <th>fips</th>\n",
       "      <th>scaled_sqft</th>\n",
       "      <th>scaled_taxamount</th>\n",
       "    </tr>\n",
       "  </thead>\n",
       "  <tbody>\n",
       "    <tr>\n",
       "      <th>1728554</th>\n",
       "      <td>11869650</td>\n",
       "      <td>3.0</td>\n",
       "      <td>2.0</td>\n",
       "      <td>1656.0</td>\n",
       "      <td>530853.0</td>\n",
       "      <td>1959.0</td>\n",
       "      <td>7850.68</td>\n",
       "      <td>6037.0</td>\n",
       "      <td>0.485480</td>\n",
       "      <td>0.756019</td>\n",
       "    </tr>\n",
       "    <tr>\n",
       "      <th>81629</th>\n",
       "      <td>14072017</td>\n",
       "      <td>3.0</td>\n",
       "      <td>2.5</td>\n",
       "      <td>2328.0</td>\n",
       "      <td>98133.0</td>\n",
       "      <td>1966.0</td>\n",
       "      <td>1386.00</td>\n",
       "      <td>6059.0</td>\n",
       "      <td>0.682605</td>\n",
       "      <td>0.131862</td>\n",
       "    </tr>\n",
       "    <tr>\n",
       "      <th>1399090</th>\n",
       "      <td>13949953</td>\n",
       "      <td>4.0</td>\n",
       "      <td>3.5</td>\n",
       "      <td>2807.0</td>\n",
       "      <td>347645.0</td>\n",
       "      <td>1959.0</td>\n",
       "      <td>4303.98</td>\n",
       "      <td>6059.0</td>\n",
       "      <td>0.823115</td>\n",
       "      <td>0.413590</td>\n",
       "    </tr>\n",
       "    <tr>\n",
       "      <th>1726159</th>\n",
       "      <td>10778653</td>\n",
       "      <td>3.0</td>\n",
       "      <td>1.0</td>\n",
       "      <td>1022.0</td>\n",
       "      <td>186407.0</td>\n",
       "      <td>1949.0</td>\n",
       "      <td>2270.58</td>\n",
       "      <td>6037.0</td>\n",
       "      <td>0.299501</td>\n",
       "      <td>0.217268</td>\n",
       "    </tr>\n",
       "    <tr>\n",
       "      <th>1449518</th>\n",
       "      <td>11265805</td>\n",
       "      <td>3.0</td>\n",
       "      <td>2.0</td>\n",
       "      <td>2459.0</td>\n",
       "      <td>279593.0</td>\n",
       "      <td>1953.0</td>\n",
       "      <td>3473.36</td>\n",
       "      <td>6037.0</td>\n",
       "      <td>0.721033</td>\n",
       "      <td>0.333394</td>\n",
       "    </tr>\n",
       "  </tbody>\n",
       "</table>\n",
       "</div>"
      ],
      "text/plain": [
       "         parcelid  bedroomcnt  bathroomcnt  calculatedfinishedsquarefeet  \\\n",
       "1728554  11869650         3.0          2.0                        1656.0   \n",
       "81629    14072017         3.0          2.5                        2328.0   \n",
       "1399090  13949953         4.0          3.5                        2807.0   \n",
       "1726159  10778653         3.0          1.0                        1022.0   \n",
       "1449518  11265805         3.0          2.0                        2459.0   \n",
       "\n",
       "         taxvaluedollarcnt  yearbuilt  taxamount    fips  scaled_sqft  \\\n",
       "1728554           530853.0     1959.0    7850.68  6037.0     0.485480   \n",
       "81629              98133.0     1966.0    1386.00  6059.0     0.682605   \n",
       "1399090           347645.0     1959.0    4303.98  6059.0     0.823115   \n",
       "1726159           186407.0     1949.0    2270.58  6037.0     0.299501   \n",
       "1449518           279593.0     1953.0    3473.36  6037.0     0.721033   \n",
       "\n",
       "         scaled_taxamount  \n",
       "1728554          0.756019  \n",
       "81629            0.131862  \n",
       "1399090          0.413590  \n",
       "1726159          0.217268  \n",
       "1449518          0.333394  "
      ]
     },
     "execution_count": 11,
     "metadata": {},
     "output_type": "execute_result"
    }
   ],
   "source": [
    "# verify new columns in place\n",
    "train.head()"
   ]
  },
  {
   "cell_type": "code",
   "execution_count": null,
   "id": "dcb1a4c2",
   "metadata": {},
   "outputs": [],
   "source": []
  },
  {
   "cell_type": "code",
   "execution_count": null,
   "id": "c185ac15",
   "metadata": {},
   "outputs": [],
   "source": []
  },
  {
   "cell_type": "code",
   "execution_count": null,
   "id": "3fa7e693",
   "metadata": {},
   "outputs": [],
   "source": []
  }
 ],
 "metadata": {
  "kernelspec": {
   "display_name": "Python 3 (ipykernel)",
   "language": "python",
   "name": "python3"
  },
  "language_info": {
   "codemirror_mode": {
    "name": "ipython",
    "version": 3
   },
   "file_extension": ".py",
   "mimetype": "text/x-python",
   "name": "python",
   "nbconvert_exporter": "python",
   "pygments_lexer": "ipython3",
   "version": "3.9.12"
  }
 },
 "nbformat": 4,
 "nbformat_minor": 5
}
