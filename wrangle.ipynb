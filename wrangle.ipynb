{
 "cells": [
  {
   "cell_type": "markdown",
   "id": "913e4a81",
   "metadata": {},
   "source": [
    "## Acquire bedroomcnt, bathroomcnt, calculatedfinishedsquarefeet, taxvaluedollarcnt, yearbuilt, taxamount, and fips from the zillow database for all 'Single Family Residential' properties."
   ]
  },
  {
   "cell_type": "code",
   "execution_count": 1,
   "id": "515e658e",
   "metadata": {},
   "outputs": [],
   "source": [
    "import pandas as pd\n",
    "import numpy as np\n",
    "import env\n",
    "import seaborn as sns\n",
    "import matplotlib.pyplot as plt\n",
    "\n",
    "import wrangle"
   ]
  },
  {
   "cell_type": "code",
   "execution_count": 2,
   "id": "6fd16737",
   "metadata": {},
   "outputs": [],
   "source": [
    "url = env.get_url(env.user, env.host, env.password, database='zillow')"
   ]
  },
  {
   "cell_type": "code",
   "execution_count": 3,
   "id": "6f5f2eac",
   "metadata": {},
   "outputs": [],
   "source": [
    "df = pd.read_sql('''\n",
    "                    SELECT parcelid, bedroomcnt, bathroomcnt, calculatedfinishedsquarefeet, taxvaluedollarcnt, \n",
    "                           yearbuilt, taxamount, fips\n",
    "                    FROM properties_2017\n",
    "                    LEFT JOIN propertylandusetype\n",
    "                    USING (propertylandusetypeid)\n",
    "                    WHERE propertylandusedesc = 'Single Family Residential' ''', url)"
   ]
  },
  {
   "cell_type": "code",
   "execution_count": 4,
   "id": "d55e9f97",
   "metadata": {},
   "outputs": [
    {
     "name": "stdout",
     "output_type": "stream",
     "text": [
      "<class 'pandas.core.frame.DataFrame'>\n",
      "RangeIndex: 2152863 entries, 0 to 2152862\n",
      "Data columns (total 8 columns):\n",
      " #   Column                        Dtype  \n",
      "---  ------                        -----  \n",
      " 0   parcelid                      int64  \n",
      " 1   bedroomcnt                    float64\n",
      " 2   bathroomcnt                   float64\n",
      " 3   calculatedfinishedsquarefeet  float64\n",
      " 4   taxvaluedollarcnt             float64\n",
      " 5   yearbuilt                     float64\n",
      " 6   taxamount                     float64\n",
      " 7   fips                          float64\n",
      "dtypes: float64(7), int64(1)\n",
      "memory usage: 131.4 MB\n"
     ]
    }
   ],
   "source": [
    "df.info()"
   ]
  },
  {
   "cell_type": "code",
   "execution_count": 6,
   "id": "474ea39b",
   "metadata": {},
   "outputs": [
    {
     "data": {
      "text/plain": [
       "parcelid                           0\n",
       "bedroomcnt                        11\n",
       "bathroomcnt                       11\n",
       "calculatedfinishedsquarefeet    8484\n",
       "taxvaluedollarcnt                493\n",
       "yearbuilt                       9337\n",
       "taxamount                       4442\n",
       "fips                               0\n",
       "dtype: int64"
      ]
     },
     "execution_count": 6,
     "metadata": {},
     "output_type": "execute_result"
    }
   ],
   "source": [
    "df.isnull().sum()"
   ]
  },
  {
   "cell_type": "code",
   "execution_count": 7,
   "id": "a6732519",
   "metadata": {},
   "outputs": [],
   "source": [
    "df=df.dropna()"
   ]
  },
  {
   "cell_type": "code",
   "execution_count": 10,
   "id": "d3e2698a",
   "metadata": {},
   "outputs": [
    {
     "data": {
      "text/html": [
       "<div>\n",
       "<style scoped>\n",
       "    .dataframe tbody tr th:only-of-type {\n",
       "        vertical-align: middle;\n",
       "    }\n",
       "\n",
       "    .dataframe tbody tr th {\n",
       "        vertical-align: top;\n",
       "    }\n",
       "\n",
       "    .dataframe thead th {\n",
       "        text-align: right;\n",
       "    }\n",
       "</style>\n",
       "<table border=\"1\" class=\"dataframe\">\n",
       "  <thead>\n",
       "    <tr style=\"text-align: right;\">\n",
       "      <th></th>\n",
       "      <th>count</th>\n",
       "      <th>mean</th>\n",
       "      <th>std</th>\n",
       "      <th>min</th>\n",
       "      <th>25%</th>\n",
       "      <th>50%</th>\n",
       "      <th>75%</th>\n",
       "      <th>max</th>\n",
       "    </tr>\n",
       "  </thead>\n",
       "  <tbody>\n",
       "    <tr>\n",
       "      <th>parcelid</th>\n",
       "      <td>2140235.0</td>\n",
       "      <td>1.304843e+07</td>\n",
       "      <td>4.568911e+06</td>\n",
       "      <td>10711725.00</td>\n",
       "      <td>11656531.50</td>\n",
       "      <td>12596047.00</td>\n",
       "      <td>14053101.50</td>\n",
       "      <td>1.681836e+08</td>\n",
       "    </tr>\n",
       "    <tr>\n",
       "      <th>bedroomcnt</th>\n",
       "      <td>2140235.0</td>\n",
       "      <td>3.301419e+00</td>\n",
       "      <td>9.325998e-01</td>\n",
       "      <td>0.00</td>\n",
       "      <td>3.00</td>\n",
       "      <td>3.00</td>\n",
       "      <td>4.00</td>\n",
       "      <td>2.500000e+01</td>\n",
       "    </tr>\n",
       "    <tr>\n",
       "      <th>bathroomcnt</th>\n",
       "      <td>2140235.0</td>\n",
       "      <td>2.240352e+00</td>\n",
       "      <td>9.905489e-01</td>\n",
       "      <td>0.00</td>\n",
       "      <td>2.00</td>\n",
       "      <td>2.00</td>\n",
       "      <td>3.00</td>\n",
       "      <td>3.200000e+01</td>\n",
       "    </tr>\n",
       "    <tr>\n",
       "      <th>calculatedfinishedsquarefeet</th>\n",
       "      <td>2140235.0</td>\n",
       "      <td>1.863194e+03</td>\n",
       "      <td>1.221754e+03</td>\n",
       "      <td>1.00</td>\n",
       "      <td>1258.00</td>\n",
       "      <td>1623.00</td>\n",
       "      <td>2208.00</td>\n",
       "      <td>9.525760e+05</td>\n",
       "    </tr>\n",
       "    <tr>\n",
       "      <th>taxvaluedollarcnt</th>\n",
       "      <td>2140235.0</td>\n",
       "      <td>4.606416e+05</td>\n",
       "      <td>6.771576e+05</td>\n",
       "      <td>22.00</td>\n",
       "      <td>189166.00</td>\n",
       "      <td>328296.00</td>\n",
       "      <td>534606.00</td>\n",
       "      <td>9.018846e+07</td>\n",
       "    </tr>\n",
       "    <tr>\n",
       "      <th>yearbuilt</th>\n",
       "      <td>2140235.0</td>\n",
       "      <td>1.960968e+03</td>\n",
       "      <td>2.215056e+01</td>\n",
       "      <td>1801.00</td>\n",
       "      <td>1949.00</td>\n",
       "      <td>1958.00</td>\n",
       "      <td>1976.00</td>\n",
       "      <td>2.016000e+03</td>\n",
       "    </tr>\n",
       "    <tr>\n",
       "      <th>taxamount</th>\n",
       "      <td>2140235.0</td>\n",
       "      <td>5.616711e+03</td>\n",
       "      <td>7.814563e+03</td>\n",
       "      <td>6.34</td>\n",
       "      <td>2540.85</td>\n",
       "      <td>4111.47</td>\n",
       "      <td>6411.93</td>\n",
       "      <td>1.078102e+06</td>\n",
       "    </tr>\n",
       "    <tr>\n",
       "      <th>fips</th>\n",
       "      <td>2140235.0</td>\n",
       "      <td>6.048310e+03</td>\n",
       "      <td>2.034491e+01</td>\n",
       "      <td>6037.00</td>\n",
       "      <td>6037.00</td>\n",
       "      <td>6037.00</td>\n",
       "      <td>6059.00</td>\n",
       "      <td>6.111000e+03</td>\n",
       "    </tr>\n",
       "  </tbody>\n",
       "</table>\n",
       "</div>"
      ],
      "text/plain": [
       "                                  count          mean           std  \\\n",
       "parcelid                      2140235.0  1.304843e+07  4.568911e+06   \n",
       "bedroomcnt                    2140235.0  3.301419e+00  9.325998e-01   \n",
       "bathroomcnt                   2140235.0  2.240352e+00  9.905489e-01   \n",
       "calculatedfinishedsquarefeet  2140235.0  1.863194e+03  1.221754e+03   \n",
       "taxvaluedollarcnt             2140235.0  4.606416e+05  6.771576e+05   \n",
       "yearbuilt                     2140235.0  1.960968e+03  2.215056e+01   \n",
       "taxamount                     2140235.0  5.616711e+03  7.814563e+03   \n",
       "fips                          2140235.0  6.048310e+03  2.034491e+01   \n",
       "\n",
       "                                      min          25%          50%  \\\n",
       "parcelid                      10711725.00  11656531.50  12596047.00   \n",
       "bedroomcnt                           0.00         3.00         3.00   \n",
       "bathroomcnt                          0.00         2.00         2.00   \n",
       "calculatedfinishedsquarefeet         1.00      1258.00      1623.00   \n",
       "taxvaluedollarcnt                   22.00    189166.00    328296.00   \n",
       "yearbuilt                         1801.00      1949.00      1958.00   \n",
       "taxamount                            6.34      2540.85      4111.47   \n",
       "fips                              6037.00      6037.00      6037.00   \n",
       "\n",
       "                                      75%           max  \n",
       "parcelid                      14053101.50  1.681836e+08  \n",
       "bedroomcnt                           4.00  2.500000e+01  \n",
       "bathroomcnt                          3.00  3.200000e+01  \n",
       "calculatedfinishedsquarefeet      2208.00  9.525760e+05  \n",
       "taxvaluedollarcnt               534606.00  9.018846e+07  \n",
       "yearbuilt                         1976.00  2.016000e+03  \n",
       "taxamount                         6411.93  1.078102e+06  \n",
       "fips                              6059.00  6.111000e+03  "
      ]
     },
     "execution_count": 10,
     "metadata": {},
     "output_type": "execute_result"
    }
   ],
   "source": [
    "df.describe().T"
   ]
  },
  {
   "cell_type": "code",
   "execution_count": 15,
   "id": "ca5c1be2",
   "metadata": {},
   "outputs": [
    {
     "data": {
      "text/plain": [
       "<Figure size 1152x216 with 0 Axes>"
      ]
     },
     "metadata": {},
     "output_type": "display_data"
    },
    {
     "data": {
      "image/png": "[encoded data removed]",
      "text/plain": [
       "<Figure size 360x360 with 1 Axes>"
      ]
     },
     "metadata": {
      "needs_background": "light"
     },
     "output_type": "display_data"
    }
   ],
   "source": [
    "plt.figure(figsize=(16, 3))\n",
    "sns.displot(data=df, x='taxamount')\n",
    "plt.show()"
   ]
  },
  {
   "cell_type": "markdown",
   "id": "4533a0e1",
   "metadata": {},
   "source": [
    "### Create functions to acquire and prep zillow data, put in wrangle.py file, and test"
   ]
  },
  {
   "cell_type": "code",
   "execution_count": 17,
   "id": "5bd7b9dd",
   "metadata": {},
   "outputs": [],
   "source": [
    "def wrangle_zillow():\n",
    "    url = env.get_url(env.user, env.host, env.password, database='zillow')\n",
    "    df = pd.read_sql('''\n",
    "                    SELECT parcelid, bedroomcnt, bathroomcnt, calculatedfinishedsquarefeet, taxvaluedollarcnt, \n",
    "                           yearbuilt, taxamount, fips\n",
    "                    FROM properties_2017\n",
    "                    LEFT JOIN propertylandusetype\n",
    "                    USING (propertylandusetypeid)\n",
    "                    WHERE propertylandusedesc = 'Single Family Residential' ''', url)\n",
    "    \n",
    "    df=df.dropna()"
   ]
  },
  {
   "cell_type": "code",
   "execution_count": 2,
   "id": "ccf83d77",
   "metadata": {},
   "outputs": [],
   "source": [
    "df = wrangle.get_zillow()"
   ]
  },
  {
   "cell_type": "code",
   "execution_count": 3,
   "id": "2df78a55",
   "metadata": {},
   "outputs": [],
   "source": []
  },
  {
   "cell_type": "code",
   "execution_count": 4,
   "id": "4c368c54",
   "metadata": {},
   "outputs": [
    {
     "name": "stdout",
     "output_type": "stream",
     "text": [
      "<class 'pandas.core.frame.DataFrame'>\n",
      "Int64Index: 2140235 entries, 4 to 2152862\n",
      "Data columns (total 8 columns):\n",
      " #   Column                        Dtype  \n",
      "---  ------                        -----  \n",
      " 0   parcelid                      int64  \n",
      " 1   bedroomcnt                    float64\n",
      " 2   bathroomcnt                   float64\n",
      " 3   calculatedfinishedsquarefeet  float64\n",
      " 4   taxvaluedollarcnt             float64\n",
      " 5   yearbuilt                     float64\n",
      " 6   taxamount                     float64\n",
      " 7   fips                          float64\n",
      "dtypes: float64(7), int64(1)\n",
      "memory usage: 147.0 MB\n"
     ]
    }
   ],
   "source": [
    "df.info()"
   ]
  },
  {
   "cell_type": "code",
   "execution_count": null,
   "id": "efb9f721",
   "metadata": {},
   "outputs": [],
   "source": []
  },
  {
   "cell_type": "markdown",
   "id": "f9b479b3",
   "metadata": {},
   "source": [
    "### Look at distribution of numerical values"
   ]
  },
  {
   "cell_type": "code",
   "execution_count": 6,
   "id": "a8aedf43",
   "metadata": {},
   "outputs": [
    {
     "data": {
      "image/png": "[encoded data removed]",
      "text/plain": [
       "<Figure size 1152x216 with 6 Axes>"
      ]
     },
     "metadata": {
      "needs_background": "light"
     },
     "output_type": "display_data"
    }
   ],
   "source": [
    "plt.figure(figsize=(16, 3))\n",
    "\n",
    "# List of columns\n",
    "cols = ['bedroomcnt', 'bathroomcnt', 'calculatedfinishedsquarefeet', 'taxvaluedollarcnt', 'yearbuilt', 'taxamount']\n",
    "\n",
    "for i, col in enumerate(cols):\n",
    "    subplot_num = i+1\n",
    "    plt.subplot(1,6,subplot_num)\n",
    "    plt.title(col)\n",
    "    df[col].hist(bins=5)\n",
    "    plt.grid(False)"
   ]
  },
  {
   "cell_type": "code",
   "execution_count": 5,
   "id": "21d58b32",
   "metadata": {},
   "outputs": [
    {
     "data": {
      "image/png": "[encoded data removed]",
      "text/plain": [
       "<Figure size 1152x216 with 6 Axes>"
      ]
     },
     "metadata": {
      "needs_background": "light"
     },
     "output_type": "display_data"
    }
   ],
   "source": [
    "plt.figure(figsize=(16,3))\n",
    "for i, col in enumerate(cols):\n",
    "    subplot_num = i+1\n",
    "    plt.subplot(1,6,subplot_num)\n",
    "    plt.title(col)\n",
    "    sns.boxplot(data=df, y=col)\n",
    "    plt.grid(False)"
   ]
  },
  {
   "cell_type": "code",
   "execution_count": 16,
   "id": "ed7f1ac0",
   "metadata": {},
   "outputs": [],
   "source": [
    "# function to remove outliers (add to wrangle.py)\n",
    "\n",
    "def remove_outliers(df, k, col_list):\n",
    "    ''' remove outliers from a list of columns in a dataframe \n",
    "        and return that dataframe\n",
    "    '''\n",
    "    \n",
    "    for col in col_list:\n",
    "\n",
    "        q1, q3 = df[col].quantile([.25, .75])  # get quartiles\n",
    "        \n",
    "        iqr = q3 - q1   # calculate interquartile range\n",
    "        \n",
    "        upper_bound = q3 + k * iqr   # get upper bound\n",
    "        lower_bound = q1 - k * iqr   # get lower bound\n",
    "\n",
    "        # return dataframe without outliers\n",
    "        \n",
    "        df = df[(df[col] > lower_bound) & (df[col] < upper_bound)]\n",
    "        \n",
    "    return df"
   ]
  },
  {
   "cell_type": "code",
   "execution_count": 4,
   "id": "79f3d20a",
   "metadata": {},
   "outputs": [],
   "source": [
    "df = wrangle.remove_outliers(df, 1.5, ['bedroomcnt', 'bathroomcnt', 'calculatedfinishedsquarefeet', 'taxvaluedollarcnt', \n",
    "                                       'taxamount'])\n"
   ]
  },
  {
   "cell_type": "code",
   "execution_count": 15,
   "id": "ad0cfcbf",
   "metadata": {},
   "outputs": [],
   "source": [
    "df.to_csv('zillow.csv', index=False)"
   ]
  },
  {
   "cell_type": "code",
   "execution_count": null,
   "id": "9f2c6c5b",
   "metadata": {},
   "outputs": [],
   "source": []
  },
  {
   "cell_type": "code",
   "execution_count": null,
   "id": "a967a254",
   "metadata": {},
   "outputs": [],
   "source": []
  }
 ],
 "metadata": {
  "kernelspec": {
   "display_name": "Python 3 (ipykernel)",
   "language": "python",
   "name": "python3"
  },
  "language_info": {
   "codemirror_mode": {
    "name": "ipython",
    "version": 3
   },
   "file_extension": ".py",
   "mimetype": "text/x-python",
   "name": "python",
   "nbconvert_exporter": "python",
   "pygments_lexer": "ipython3",
   "version": "3.9.12"
  }
 },
 "nbformat": 4,
 "nbformat_minor": 5
}
