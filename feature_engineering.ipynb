{
 "cells": [
  {
   "cell_type": "code",
   "execution_count": 95,
   "id": "7d4f99b6",
   "metadata": {},
   "outputs": [],
   "source": [
    "import pandas as pd\n",
    "import numpy as np\n",
    "import os\n",
    "import wrangle_grades\n",
    "from sklearn.feature_selection import SelectKBest, RFE, f_regression, SequentialFeatureSelector\n",
    "from sklearn.model_selection import train_test_split\n",
    "from sklearn.linear_model import LinearRegression\n",
    "from sklearn.preprocessing import OneHotEncoder\n",
    "import seaborn as sns\n",
    "from pydataset import data"
   ]
  },
  {
   "cell_type": "markdown",
   "id": "4bd5ea68",
   "metadata": {},
   "source": [
    "# Load the tips dataset."
   ]
  },
  {
   "cell_type": "code",
   "execution_count": 30,
   "id": "20d5ff0b",
   "metadata": {},
   "outputs": [
    {
     "data": {
      "text/html": [
       "<div>\n",
       "<style scoped>\n",
       "    .dataframe tbody tr th:only-of-type {\n",
       "        vertical-align: middle;\n",
       "    }\n",
       "\n",
       "    .dataframe tbody tr th {\n",
       "        vertical-align: top;\n",
       "    }\n",
       "\n",
       "    .dataframe thead th {\n",
       "        text-align: right;\n",
       "    }\n",
       "</style>\n",
       "<table border=\"1\" class=\"dataframe\">\n",
       "  <thead>\n",
       "    <tr style=\"text-align: right;\">\n",
       "      <th></th>\n",
       "      <th>total_bill</th>\n",
       "      <th>tip</th>\n",
       "      <th>sex</th>\n",
       "      <th>smoker</th>\n",
       "      <th>size</th>\n",
       "      <th>dinner</th>\n",
       "      <th>day_Fri</th>\n",
       "      <th>day_Sat</th>\n",
       "      <th>day_Sun</th>\n",
       "    </tr>\n",
       "  </thead>\n",
       "  <tbody>\n",
       "    <tr>\n",
       "      <th>0</th>\n",
       "      <td>16.99</td>\n",
       "      <td>1.01</td>\n",
       "      <td>0</td>\n",
       "      <td>0</td>\n",
       "      <td>2</td>\n",
       "      <td>1</td>\n",
       "      <td>0</td>\n",
       "      <td>0</td>\n",
       "      <td>1</td>\n",
       "    </tr>\n",
       "    <tr>\n",
       "      <th>1</th>\n",
       "      <td>10.34</td>\n",
       "      <td>1.66</td>\n",
       "      <td>1</td>\n",
       "      <td>0</td>\n",
       "      <td>3</td>\n",
       "      <td>1</td>\n",
       "      <td>0</td>\n",
       "      <td>0</td>\n",
       "      <td>1</td>\n",
       "    </tr>\n",
       "    <tr>\n",
       "      <th>2</th>\n",
       "      <td>21.01</td>\n",
       "      <td>3.50</td>\n",
       "      <td>1</td>\n",
       "      <td>0</td>\n",
       "      <td>3</td>\n",
       "      <td>1</td>\n",
       "      <td>0</td>\n",
       "      <td>0</td>\n",
       "      <td>1</td>\n",
       "    </tr>\n",
       "    <tr>\n",
       "      <th>3</th>\n",
       "      <td>23.68</td>\n",
       "      <td>3.31</td>\n",
       "      <td>1</td>\n",
       "      <td>0</td>\n",
       "      <td>2</td>\n",
       "      <td>1</td>\n",
       "      <td>0</td>\n",
       "      <td>0</td>\n",
       "      <td>1</td>\n",
       "    </tr>\n",
       "    <tr>\n",
       "      <th>4</th>\n",
       "      <td>24.59</td>\n",
       "      <td>3.61</td>\n",
       "      <td>0</td>\n",
       "      <td>0</td>\n",
       "      <td>4</td>\n",
       "      <td>1</td>\n",
       "      <td>0</td>\n",
       "      <td>0</td>\n",
       "      <td>1</td>\n",
       "    </tr>\n",
       "  </tbody>\n",
       "</table>\n",
       "</div>"
      ],
      "text/plain": [
       "   total_bill   tip sex smoker  size dinner  day_Fri  day_Sat  day_Sun\n",
       "0       16.99  1.01   0      0     2      1        0        0        1\n",
       "1       10.34  1.66   1      0     3      1        0        0        1\n",
       "2       21.01  3.50   1      0     3      1        0        0        1\n",
       "3       23.68  3.31   1      0     2      1        0        0        1\n",
       "4       24.59  3.61   0      0     4      1        0        0        1"
      ]
     },
     "execution_count": 30,
     "metadata": {},
     "output_type": "execute_result"
    }
   ],
   "source": [
    "df = sns.load_dataset('tips')\n",
    "# encode categorical variables\n",
    "df['sex'] = df.sex.map({'Female' : 0 , 'Male' : 1})\n",
    "df['smoker'] = df.smoker.map({'No' : 0 , 'Yes' : 1})\n",
    "df['dinner'] = df.time.map({'Dinner' : 1, 'Lunch' : 0})\n",
    "dummies = pd.get_dummies(df[['day']], drop_first=True)\n",
    "df = pd.concat([df, dummies], axis=1)\n",
    "\n",
    "df.drop(columns=['time', 'day'], inplace=True)\n",
    "\n",
    "\n",
    "df.head()\n"
   ]
  },
  {
   "cell_type": "code",
   "execution_count": 38,
   "id": "28114df5",
   "metadata": {},
   "outputs": [],
   "source": [
    "df.dinner = df.dinner.astype(int)\n",
    "df.smoker = df.smoker.astype(int)\n",
    "df.sex = df.sex.astype(int)"
   ]
  },
  {
   "cell_type": "markdown",
   "id": "776efd2b",
   "metadata": {},
   "source": [
    "# Create a column named price_per_person. This should be the total bill divided by the party size."
   ]
  },
  {
   "cell_type": "code",
   "execution_count": 39,
   "id": "c77a9aec",
   "metadata": {},
   "outputs": [
    {
     "name": "stdout",
     "output_type": "stream",
     "text": [
      "<class 'pandas.core.frame.DataFrame'>\n",
      "RangeIndex: 244 entries, 0 to 243\n",
      "Data columns (total 10 columns):\n",
      " #   Column            Non-Null Count  Dtype  \n",
      "---  ------            --------------  -----  \n",
      " 0   total_bill        244 non-null    float64\n",
      " 1   tip               244 non-null    float64\n",
      " 2   sex               244 non-null    int64  \n",
      " 3   smoker            244 non-null    int64  \n",
      " 4   size              244 non-null    int64  \n",
      " 5   dinner            244 non-null    int64  \n",
      " 6   day_Fri           244 non-null    uint8  \n",
      " 7   day_Sat           244 non-null    uint8  \n",
      " 8   day_Sun           244 non-null    uint8  \n",
      " 9   price_per_person  244 non-null    float64\n",
      "dtypes: float64(3), int64(4), uint8(3)\n",
      "memory usage: 14.2 KB\n"
     ]
    }
   ],
   "source": [
    "df['price_per_person'] = df.total_bill / df['size']\n",
    "df.info()"
   ]
  },
  {
   "cell_type": "markdown",
   "id": "13f7719b",
   "metadata": {},
   "source": [
    "# Before using any of the methods discussed in the lesson, which features do you think would be most important for predicting the tip amount?"
   ]
  },
  {
   "cell_type": "markdown",
   "id": "cb371f10",
   "metadata": {},
   "source": [
    "    - Total bill\n",
    "    - price_per_person"
   ]
  },
  {
   "cell_type": "markdown",
   "id": "4e5a6ac0",
   "metadata": {},
   "source": [
    "# Use select k best to select the top 2 features for predicting tip amount. What are they?"
   ]
  },
  {
   "cell_type": "code",
   "execution_count": 40,
   "id": "de249648",
   "metadata": {},
   "outputs": [
    {
     "data": {
      "text/plain": [
       "['total_bill',\n",
       " 'tip',\n",
       " 'sex',\n",
       " 'smoker',\n",
       " 'size',\n",
       " 'dinner',\n",
       " 'day_Fri',\n",
       " 'day_Sat',\n",
       " 'day_Sun',\n",
       " 'price_per_person']"
      ]
     },
     "execution_count": 40,
     "metadata": {},
     "output_type": "execute_result"
    }
   ],
   "source": [
    "df.columns.tolist()"
   ]
  },
  {
   "cell_type": "code",
   "execution_count": 42,
   "id": "4521e802",
   "metadata": {},
   "outputs": [],
   "source": [
    "X = df[['total_bill', 'sex', 'smoker', 'size', 'dinner', 'day_Fri', 'day_Sat', 'day_Sun', 'price_per_person']]\n",
    "y = df['tip']"
   ]
  },
  {
   "cell_type": "code",
   "execution_count": 43,
   "id": "616704fa",
   "metadata": {},
   "outputs": [
    {
     "data": {
      "text/plain": [
       "SelectKBest(k=2, score_func=<function f_regression at 0x146032b80>)"
      ]
     },
     "execution_count": 43,
     "metadata": {},
     "output_type": "execute_result"
    }
   ],
   "source": [
    "kbest = SelectKBest(score_func=f_regression, k=2)\n",
    "kbest.fit(X, y)  "
   ]
  },
  {
   "cell_type": "code",
   "execution_count": 56,
   "id": "db4862a4",
   "metadata": {},
   "outputs": [
    {
     "name": "stdout",
     "output_type": "stream",
     "text": [
      "The top 2 features using k-best are total_bill and size\n"
     ]
    }
   ],
   "source": [
    "top2 = X.columns[kbest.get_support()]\n",
    "print(f'The top 2 features using k-best are {top2[0]} and {top2[1]}')"
   ]
  },
  {
   "cell_type": "markdown",
   "id": "c5516067",
   "metadata": {},
   "source": [
    "# Use recursive feature elimination to select the top 2 features for tip amount. What are they?"
   ]
  },
  {
   "cell_type": "code",
   "execution_count": 79,
   "id": "5a069911",
   "metadata": {},
   "outputs": [],
   "source": [
    "model = LinearRegression()"
   ]
  },
  {
   "cell_type": "code",
   "execution_count": 80,
   "id": "2ebcc182",
   "metadata": {},
   "outputs": [
    {
     "data": {
      "text/plain": [
       "RFE(estimator=LinearRegression(), n_features_to_select=2)"
      ]
     },
     "execution_count": 80,
     "metadata": {},
     "output_type": "execute_result"
    }
   ],
   "source": [
    "# make the rfe\n",
    "rfe = RFE(model, n_features_to_select=2)\n",
    "# fit the rfe\n",
    "rfe.fit(X, y)"
   ]
  },
  {
   "cell_type": "code",
   "execution_count": 82,
   "id": "1fbe8a25",
   "metadata": {},
   "outputs": [
    {
     "data": {
      "text/plain": [
       "array([3, 7, 2, 5, 6, 1, 8, 1, 4])"
      ]
     },
     "execution_count": 82,
     "metadata": {},
     "output_type": "execute_result"
    }
   ],
   "source": [
    "rfe.ranking_"
   ]
  },
  {
   "cell_type": "code",
   "execution_count": 66,
   "id": "3495345c",
   "metadata": {},
   "outputs": [
    {
     "name": "stdout",
     "output_type": "stream",
     "text": [
      "The top two features using RFE are day_Fri and day_Sun\n"
     ]
    }
   ],
   "source": [
    "results = pd.DataFrame(\n",
    "{\n",
    "    'rfe_ranking' : rfe.ranking_\n",
    "}, index = X.columns)\n",
    "results = results[results.rfe_ranking == 1]\n",
    "print(f'The top two features using RFE are {results.index[0]} and {results.index[1]}')"
   ]
  },
  {
   "cell_type": "markdown",
   "id": "15325be0",
   "metadata": {},
   "source": [
    "# Why do you think select k best and recursive feature elimination might give different answers for the top features? Does this change as you change the number of features you are selecting?"
   ]
  },
  {
   "cell_type": "markdown",
   "id": "3dfd5890",
   "metadata": {},
   "source": [
    "They use different methods.  The feature selection does change as the number of features changes."
   ]
  },
  {
   "cell_type": "markdown",
   "id": "a8fe842f",
   "metadata": {},
   "source": [
    "# Write a function named select_kbest that takes in the predictors (X), the target (y), and the number of features to select (k) and returns the names of the top k selected features based on the SelectKBest class. Test your function with the tips dataset. You should see the same results as when you did the process manually."
   ]
  },
  {
   "cell_type": "code",
   "execution_count": 73,
   "id": "be9324ba",
   "metadata": {},
   "outputs": [],
   "source": [
    "def select_kbest(X, y, num):\n",
    "    kbest = SelectKBest(score_func=f_regression, k=num)\n",
    "    kbest.fit(X, y) \n",
    "    \n",
    "    return X.columns[kbest.get_support()].tolist()\n",
    "    \n",
    "    \n",
    "    "
   ]
  },
  {
   "cell_type": "code",
   "execution_count": 78,
   "id": "dae170c3",
   "metadata": {},
   "outputs": [
    {
     "data": {
      "text/plain": [
       "['total_bill', 'size']"
      ]
     },
     "execution_count": 78,
     "metadata": {},
     "output_type": "execute_result"
    }
   ],
   "source": [
    "select_kbest(X, y, 2)"
   ]
  },
  {
   "cell_type": "markdown",
   "id": "d2325f68",
   "metadata": {},
   "source": [
    "# Write a function named rfe that takes in the predictors, the target, and the number of features to select. It should return the top k features based on the RFE class. Test your function with the tips dataset. You should see the same results as when you did the process manually."
   ]
  },
  {
   "cell_type": "code",
   "execution_count": 91,
   "id": "59ca2fb8",
   "metadata": {},
   "outputs": [],
   "source": [
    "def rfe(X, y, num):\n",
    "    model = LinearRegression()\n",
    "    # make the rfe\n",
    "    rfe = RFE(model, n_features_to_select=num)\n",
    "    # fit the rfe\n",
    "    rfe.fit(X, y)\n",
    "    \n",
    "    results = pd.DataFrame(\n",
    "    {\n",
    "        'rfe_ranking' : rfe.ranking_\n",
    "    }, index = X.columns)\n",
    "    print(results.index[results.rfe_ranking == 1].tolist())\n",
    "    "
   ]
  },
  {
   "cell_type": "code",
   "execution_count": 92,
   "id": "fcbe1ac7",
   "metadata": {},
   "outputs": [
    {
     "name": "stdout",
     "output_type": "stream",
     "text": [
      "['day_Fri', 'day_Sun']\n"
     ]
    }
   ],
   "source": [
    "rfe(X,y,2)"
   ]
  },
  {
   "cell_type": "markdown",
   "id": "15bcfdef",
   "metadata": {},
   "source": [
    "# Load the swiss dataset and use all the other features to predict Fertility. Find the top 3 features using both select k best and recursive feature elimination (use the functions you just built to help you out)."
   ]
  },
  {
   "cell_type": "code",
   "execution_count": 96,
   "id": "0f93bedb",
   "metadata": {},
   "outputs": [
    {
     "data": {
      "text/html": [
       "<div>\n",
       "<style scoped>\n",
       "    .dataframe tbody tr th:only-of-type {\n",
       "        vertical-align: middle;\n",
       "    }\n",
       "\n",
       "    .dataframe tbody tr th {\n",
       "        vertical-align: top;\n",
       "    }\n",
       "\n",
       "    .dataframe thead th {\n",
       "        text-align: right;\n",
       "    }\n",
       "</style>\n",
       "<table border=\"1\" class=\"dataframe\">\n",
       "  <thead>\n",
       "    <tr style=\"text-align: right;\">\n",
       "      <th></th>\n",
       "      <th>Fertility</th>\n",
       "      <th>Agriculture</th>\n",
       "      <th>Examination</th>\n",
       "      <th>Education</th>\n",
       "      <th>Catholic</th>\n",
       "      <th>Infant.Mortality</th>\n",
       "    </tr>\n",
       "  </thead>\n",
       "  <tbody>\n",
       "    <tr>\n",
       "      <th>Courtelary</th>\n",
       "      <td>80.2</td>\n",
       "      <td>17.0</td>\n",
       "      <td>15</td>\n",
       "      <td>12</td>\n",
       "      <td>9.96</td>\n",
       "      <td>22.2</td>\n",
       "    </tr>\n",
       "    <tr>\n",
       "      <th>Delemont</th>\n",
       "      <td>83.1</td>\n",
       "      <td>45.1</td>\n",
       "      <td>6</td>\n",
       "      <td>9</td>\n",
       "      <td>84.84</td>\n",
       "      <td>22.2</td>\n",
       "    </tr>\n",
       "    <tr>\n",
       "      <th>Franches-Mnt</th>\n",
       "      <td>92.5</td>\n",
       "      <td>39.7</td>\n",
       "      <td>5</td>\n",
       "      <td>5</td>\n",
       "      <td>93.40</td>\n",
       "      <td>20.2</td>\n",
       "    </tr>\n",
       "    <tr>\n",
       "      <th>Moutier</th>\n",
       "      <td>85.8</td>\n",
       "      <td>36.5</td>\n",
       "      <td>12</td>\n",
       "      <td>7</td>\n",
       "      <td>33.77</td>\n",
       "      <td>20.3</td>\n",
       "    </tr>\n",
       "    <tr>\n",
       "      <th>Neuveville</th>\n",
       "      <td>76.9</td>\n",
       "      <td>43.5</td>\n",
       "      <td>17</td>\n",
       "      <td>15</td>\n",
       "      <td>5.16</td>\n",
       "      <td>20.6</td>\n",
       "    </tr>\n",
       "  </tbody>\n",
       "</table>\n",
       "</div>"
      ],
      "text/plain": [
       "              Fertility  Agriculture  Examination  Education  Catholic  \\\n",
       "Courtelary         80.2         17.0           15         12      9.96   \n",
       "Delemont           83.1         45.1            6          9     84.84   \n",
       "Franches-Mnt       92.5         39.7            5          5     93.40   \n",
       "Moutier            85.8         36.5           12          7     33.77   \n",
       "Neuveville         76.9         43.5           17         15      5.16   \n",
       "\n",
       "              Infant.Mortality  \n",
       "Courtelary                22.2  \n",
       "Delemont                  22.2  \n",
       "Franches-Mnt              20.2  \n",
       "Moutier                   20.3  \n",
       "Neuveville                20.6  "
      ]
     },
     "execution_count": 96,
     "metadata": {},
     "output_type": "execute_result"
    }
   ],
   "source": [
    "swiss = data('swiss')\n",
    "swiss.head()"
   ]
  },
  {
   "cell_type": "code",
   "execution_count": 97,
   "id": "e6ddc682",
   "metadata": {},
   "outputs": [],
   "source": [
    "swiss_X = swiss.drop(columns='Fertility')\n",
    "swiss_y = swiss.Fertility"
   ]
  },
  {
   "cell_type": "code",
   "execution_count": 99,
   "id": "d1aa3b23",
   "metadata": {},
   "outputs": [
    {
     "data": {
      "text/plain": [
       "['Examination', 'Education', 'Catholic']"
      ]
     },
     "execution_count": 99,
     "metadata": {},
     "output_type": "execute_result"
    }
   ],
   "source": [
    "select_kbest(swiss_X, swiss_y, 3)"
   ]
  },
  {
   "cell_type": "code",
   "execution_count": 100,
   "id": "d2c219e0",
   "metadata": {},
   "outputs": [
    {
     "name": "stdout",
     "output_type": "stream",
     "text": [
      "['Examination', 'Education', 'Infant.Mortality']\n"
     ]
    }
   ],
   "source": [
    "rfe(swiss_X, swiss_y, 3)"
   ]
  },
  {
   "cell_type": "code",
   "execution_count": null,
   "id": "4c0c748b",
   "metadata": {},
   "outputs": [],
   "source": []
  }
 ],
 "metadata": {
  "kernelspec": {
   "display_name": "Python 3 (ipykernel)",
   "language": "python",
   "name": "python3"
  },
  "language_info": {
   "codemirror_mode": {
    "name": "ipython",
    "version": 3
   },
   "file_extension": ".py",
   "mimetype": "text/x-python",
   "name": "python",
   "nbconvert_exporter": "python",
   "pygments_lexer": "ipython3",
   "version": "3.9.12"
  }
 },
 "nbformat": 4,
 "nbformat_minor": 5
}
